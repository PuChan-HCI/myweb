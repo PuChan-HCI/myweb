{
  "nbformat": 4,
  "nbformat_minor": 0,
  "metadata": {
    "colab": {
      "provenance": [],
      "authorship_tag": "ABX9TyNSCoAJTRTTEiIH8sGoHXSr",
      "include_colab_link": true
    },
    "kernelspec": {
      "name": "python3",
      "display_name": "Python 3"
    },
    "language_info": {
      "name": "python"
    }
  },
  "cells": [
    {
      "cell_type": "markdown",
      "metadata": {
        "id": "view-in-github",
        "colab_type": "text"
      },
      "source": [
        "<a href=\"https://colab.research.google.com/github/PuChan-HCI/myweb/blob/main/DeepLearning-with-Pytorch/00_useful_goods.ipynb\" target=\"_parent\"><img src=\"https://colab.research.google.com/assets/colab-badge.svg\" alt=\"Open In Colab\"/></a>"
      ]
    },
    {
      "cell_type": "markdown",
      "source": [
        "# Useful Goods\n",
        " Here is a collection of stories that will eventually come in handy. Topics will include file processing, dataset creation, and automation of processing."
      ],
      "metadata": {
        "id": "ilkwUQuPj6C1"
      }
    },
    {
      "cell_type": "markdown",
      "source": [
        "## 01. Download a zip file and extract it to a designated directory\n",
        " You can mount your own Google Drive to read the data, but you can also download the zip file from the URL and unzip it without going through it."
      ],
      "metadata": {
        "id": "mhnLqV0-l0a_"
      }
    },
    {
      "cell_type": "code",
      "execution_count": 1,
      "metadata": {
        "id": "D4iWDKkUj42M"
      },
      "outputs": [],
      "source": [
        "from io import BytesIO\n",
        "from urllib.request import urlopen\n",
        "from zipfile import ZipFile\n",
        "\n",
        "zipurl =  'https://puchan-hci.github.io/myweb/DeepLearning-with-Pytorch/data/00/sample.zip'\n",
        "with urlopen(zipurl) as zipresp:\n",
        "  with ZipFile(BytesIO(zipresp.read())) as zfile:\n",
        "    zfile.extractall('./data')"
      ]
    },
    {
      "cell_type": "markdown",
      "source": [
        " After successful downloading and unzipping, the file will appear in the file list on the left. <br>\n",
        "<img src=\"https://puchan-hci.github.io/myweb/DeepLearning-with-Pytorch/img/00_1.jpg\" width=\"30%\">"
      ],
      "metadata": {
        "id": "n-Ol89QkGahz"
      }
    },
    {
      "cell_type": "markdown",
      "source": [
        "##02. Create a new folder and its sub-folder"
      ],
      "metadata": {
        "id": "wi9y3OQs9aZl"
      }
    },
    {
      "cell_type": "code",
      "source": [
        "import sys, os\n",
        "import shutil\n",
        "\n",
        "# コピー先フォルダがあれば終了．無ければ作成する関数\n",
        "# Function to create a folder and its subfolders by checking for the existence of such folders.\n",
        "def check_dir(new_dirpath, new_sub_folder):\n",
        "\n",
        "    # コピー先の親フォルダの存在有無の確認\n",
        "    # Check for the existence of the parent folder of the destination folder\n",
        "    if os.path.isdir(new_dirpath):\n",
        "        print(new_dirpath + \" already exists\")\n",
        "        pass\n",
        "    else:\n",
        "        os.mkdir(new_dirpath)\n",
        "        print(new_dirpath + \" created\")\n",
        "\n",
        "    # コピー先のサブフォルダの存在有無の確認\n",
        "    # Check for the existence of sub-folders in the destination folder.\n",
        "    new_sub_dirpath_list = [new_dirpath, new_sub_folder]\n",
        "    new_sub_dirpath = os.path.join(*new_sub_dirpath_list)\n",
        "    if os.path.isdir(new_sub_dirpath):\n",
        "        print(new_sub_dirpath + \" already exists\")\n",
        "        exit(\"exit\")\n",
        "    else:\n",
        "        os.mkdir(new_sub_dirpath)\n",
        "\n",
        "    return new_sub_dirpath"
      ],
      "metadata": {
        "id": "_S2P_-7pmkmj"
      },
      "execution_count": 67,
      "outputs": []
    },
    {
      "cell_type": "markdown",
      "source": [
        "## 03.  Function to recursively search in the specified folder and copy files if the specified file extension is found."
      ],
      "metadata": {
        "id": "N8XZSqgKG9gs"
      }
    },
    {
      "cell_type": "code",
      "source": [
        "# 指定フォルダ内を再帰的に探索し，指定拡張子があった場合にファイルをコピーする関数\n",
        "def copy_files(check_dirpath, check_file, new_sub_dirpath):\n",
        "\n",
        "    # コピー元フォルダがない場合に強制終了する\n",
        "    if not os.path.isdir(check_dirpath):\n",
        "        print(\"not found \" + check_dirpath)\n",
        "        exit(\"exit\")\n",
        "    else:\n",
        "        # 再帰的にフォルダ探索\n",
        "         # Recursively search for folders\n",
        "        for dirpath, dirnames, filenames in os.walk(check_dirpath):\n",
        "            for file in filenames:\n",
        "                filepath = os.path.join(dirpath, file)\n",
        "                # ファイルの拡張子を確認しマッチすれば処理する\n",
        "                # Check file extensions and process if they match\n",
        "                if file.endswith(check_file):\n",
        "                    # ファイルをコピーする\n",
        "                    # Copy files\n",
        "                    shutil.copy2(filepath, new_sub_dirpath)\n",
        "                    new_file_path = os.path.join(new_sub_dirpath, file)\n",
        "                    print(\"copied -> \", new_file_path)"
      ],
      "metadata": {
        "id": "q-XG29VDHKRr"
      },
      "execution_count": 68,
      "outputs": []
    },
    {
      "cell_type": "markdown",
      "source": [
        "### Let's run it.\n",
        "<img src=\"https://puchan-hci.github.io/myweb/DeepLearning-with-Pytorch/img/00_2.jpg\" width=\"30%\">"
      ],
      "metadata": {
        "id": "JunNNFFRHQxM"
      }
    },
    {
      "cell_type": "code",
      "source": [
        "# 対象の画像とそのフォルダ\n",
        "image_data = 'jpg'\n",
        "image_folder = './data'\n",
        "\n",
        "# 新しいフォルダ名（データセットフォルダ）\n",
        "new_path = \"./animal\"\n",
        "val_folder=\"val\"\n",
        "train_folder=\"train\"\n",
        "\n",
        "# コピー先フォルダがあれば終了。無ければ作成する関数\n",
        "val_dirpath = check_dir(new_path, val_folder)\n",
        "train_dirpath = check_dir(new_path, train_folder)\n",
        "print(val_dirpath)\n",
        "print(train_dirpath)\n",
        "\n",
        "# 指定フォルダ内を再帰的に探索し、指定拡張子があった場合にファイルをコピーする関数\n",
        "copy_files(image_folder, image_data, val_dirpath)\n",
        "copy_files(image_folder, image_data, train_dirpath)\n"
      ],
      "metadata": {
        "id": "jFsHBj41mwWt"
      },
      "execution_count": null,
      "outputs": []
    },
    {
      "cell_type": "markdown",
      "source": [
        "## 04. Separate multiple images in a folder by randomly dividing them into halves and copying each to a different folder."
      ],
      "metadata": {
        "id": "XyZLsAdwLdSE"
      }
    },
    {
      "cell_type": "code",
      "source": [
        "import glob\n",
        "import os\n",
        "import random\n",
        "import shutil\n",
        "\n",
        "# 探索するフォルダのフルパスを指定\n",
        "# Specify the full path of the file to search\n",
        "folder_path = './data/*.jpg'\n",
        "\n",
        "# フォルダ内の.jpgファイル一覧を取得\n",
        "#  Get a list of .jpg files in the folder\n",
        "file_list = glob.glob(folder_path)\n",
        "\n",
        "# ファイルをランダムに半分に分け\n",
        "#  Randomly split a file in half.\n",
        "random.shuffle(file_list)\n",
        "half_point = len(file_list) // 2\n",
        "first_half = file_list[:half_point]\n",
        "second_half = file_list[half_point:]\n",
        "\n",
        "# それぞれのファイルを別のフォルダにコピー\n",
        "#  Copy each file into a separate folder\n",
        "new_path = 'dataset'\n",
        "destination_folder1 = 'val'\n",
        "destination_folder2 = 'train'\n",
        "val_dirpath = check_dir(new_path, destination_folder1)\n",
        "train_dirpath = check_dir(new_path, destination_folder2)\n",
        "\n",
        "for selected_file in first_half:\n",
        "    selected_filename = os.path.split(selected_file)[1]\n",
        "    print('First half: ', selected_filename)\n",
        "    shutil.copy(selected_file, os.path.join(new_path,destination_folder1, selected_filename))\n",
        "\n",
        "for selected_file in second_half:\n",
        "    selected_filename = os.path.split(selected_file)[1]\n",
        "    print('Second half: ',selected_filename)\n",
        "    shutil.copy(selected_file, os.path.join(new_path,destination_folder2, selected_filename))"
      ],
      "metadata": {
        "id": "oYoiIAud3TSL"
      },
      "execution_count": null,
      "outputs": []
    },
    {
      "cell_type": "code",
      "source": [
        "!ls\n",
        "!rm -rf  animal dataset"
      ],
      "metadata": {
        "colab": {
          "base_uri": "https://localhost:8080/"
        },
        "id": "qCg1rdyxLGcl",
        "outputId": "9668b02a-eae4-44db-dee4-1035073a2e1f"
      },
      "execution_count": 71,
      "outputs": [
        {
          "output_type": "stream",
          "name": "stdout",
          "text": [
            "animal\tdata  dataset  sample_data\n"
          ]
        }
      ]
    }
  ]
}