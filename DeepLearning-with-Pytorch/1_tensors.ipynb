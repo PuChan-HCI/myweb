{
  "cells": [
    {
      "cell_type": "code",
      "execution_count": null,
      "metadata": {
        "id": "Y139gKZbc7vU"
      },
      "outputs": [],
      "source": [
        "a = [1.0, 2.0, 1.0]"
      ]
    },
    {
      "cell_type": "code",
      "execution_count": null,
      "metadata": {
        "id": "a-H4hNC-c7vX",
        "outputId": "cb94beaa-1c8d-40e7-ea45-dd75bf22d710"
      },
      "outputs": [
        {
          "data": {
            "text/plain": [
              "1.0"
            ]
          },
          "execution_count": 2,
          "metadata": {},
          "output_type": "execute_result"
        }
      ],
      "source": [
        "a[0]"
      ]
    },
    {
      "cell_type": "code",
      "execution_count": null,
      "metadata": {
        "id": "UJT9-pWpc7vY",
        "outputId": "8ed82a01-4232-43fc-98dd-a922d871fd1c"
      },
      "outputs": [
        {
          "data": {
            "text/plain": [
              "[1.0, 2.0, 3.0]"
            ]
          },
          "execution_count": 3,
          "metadata": {},
          "output_type": "execute_result"
        }
      ],
      "source": [
        "a[2] = 3.0\n",
        "a"
      ]
    },
    {
      "cell_type": "code",
      "execution_count": null,
      "metadata": {
        "id": "sfG3RM0Ic7vZ",
        "outputId": "f94e63b2-0b37-46a9-a3ae-50af7cf72aef"
      },
      "outputs": [
        {
          "data": {
            "text/plain": [
              "tensor([1., 1., 1.])"
            ]
          },
          "execution_count": 4,
          "metadata": {},
          "output_type": "execute_result"
        }
      ],
      "source": [
        "import torch # <1>\n",
        "a = torch.ones(3) # <2>\n",
        "a"
      ]
    },
    {
      "cell_type": "code",
      "execution_count": null,
      "metadata": {
        "id": "nalFCozLc7vZ",
        "outputId": "811cdb53-cdd3-46eb-aabb-fc2751ea4f0b"
      },
      "outputs": [
        {
          "data": {
            "text/plain": [
              "tensor(1.)"
            ]
          },
          "execution_count": 5,
          "metadata": {},
          "output_type": "execute_result"
        }
      ],
      "source": [
        "a[1]"
      ]
    },
    {
      "cell_type": "code",
      "execution_count": null,
      "metadata": {
        "id": "2wlNE9lic7vZ",
        "outputId": "2264ddb4-5a79-4583-83d4-dd73b6c6466a"
      },
      "outputs": [
        {
          "data": {
            "text/plain": [
              "1.0"
            ]
          },
          "execution_count": 6,
          "metadata": {},
          "output_type": "execute_result"
        }
      ],
      "source": [
        "float(a[1])"
      ]
    },
    {
      "cell_type": "code",
      "execution_count": null,
      "metadata": {
        "id": "ugNZVZVTc7vZ",
        "outputId": "407ec646-02b0-4fbf-f713-58014b815e47"
      },
      "outputs": [
        {
          "data": {
            "text/plain": [
              "tensor([1., 1., 2.])"
            ]
          },
          "execution_count": 7,
          "metadata": {},
          "output_type": "execute_result"
        }
      ],
      "source": [
        "a[2] = 2.0\n",
        "a"
      ]
    },
    {
      "cell_type": "code",
      "execution_count": null,
      "metadata": {
        "id": "P4Sdvk1Fc7va"
      },
      "outputs": [],
      "source": [
        "points = torch.zeros(6) # <1>\n",
        "points[0] = 4.0 # <2>\n",
        "points[1] = 1.0\n",
        "points[2] = 5.0\n",
        "points[3] = 3.0\n",
        "points[4] = 2.0\n",
        "points[5] = 1.0"
      ]
    },
    {
      "cell_type": "code",
      "execution_count": null,
      "metadata": {
        "id": "_wWPuiWrc7va",
        "outputId": "d99756ef-a816-4763-a067-c9aafa53b989"
      },
      "outputs": [
        {
          "data": {
            "text/plain": [
              "tensor([4., 1., 5., 3., 2., 1.])"
            ]
          },
          "execution_count": 9,
          "metadata": {},
          "output_type": "execute_result"
        }
      ],
      "source": [
        "points = torch.tensor([4.0, 1.0, 5.0, 3.0, 2.0, 1.0])\n",
        "points"
      ]
    },
    {
      "cell_type": "code",
      "execution_count": null,
      "metadata": {
        "id": "437EmOT5c7va",
        "outputId": "5f081c67-c1b7-4c7b-fc9b-30a6ce8006ce"
      },
      "outputs": [
        {
          "data": {
            "text/plain": [
              "(4.0, 1.0)"
            ]
          },
          "execution_count": 10,
          "metadata": {},
          "output_type": "execute_result"
        }
      ],
      "source": [
        "float(points[0]), float(points[1])"
      ]
    },
    {
      "cell_type": "code",
      "execution_count": null,
      "metadata": {
        "id": "nGrzRknKc7vb",
        "outputId": "7aff9b3f-61bc-4644-a5ef-66031f5c57d2"
      },
      "outputs": [
        {
          "data": {
            "text/plain": [
              "tensor([[4., 1.],\n",
              "        [5., 3.],\n",
              "        [2., 1.]])"
            ]
          },
          "execution_count": 11,
          "metadata": {},
          "output_type": "execute_result"
        }
      ],
      "source": [
        "points = torch.tensor([[4.0, 1.0], [5.0, 3.0], [2.0, 1.0]])\n",
        "points"
      ]
    },
    {
      "cell_type": "code",
      "execution_count": null,
      "metadata": {
        "id": "88tymMDyc7vb",
        "outputId": "7b21983e-fa51-42d8-d79b-cb987f0b1406"
      },
      "outputs": [
        {
          "data": {
            "text/plain": [
              "torch.Size([3, 2])"
            ]
          },
          "execution_count": 12,
          "metadata": {},
          "output_type": "execute_result"
        }
      ],
      "source": [
        "points.shape"
      ]
    },
    {
      "cell_type": "code",
      "execution_count": null,
      "metadata": {
        "id": "vcfjrQn5c7vb",
        "outputId": "a9257c74-d6bb-4a83-a022-5e3ad85c10a0"
      },
      "outputs": [
        {
          "data": {
            "text/plain": [
              "tensor([[0., 0.],\n",
              "        [0., 0.],\n",
              "        [0., 0.]])"
            ]
          },
          "execution_count": 13,
          "metadata": {},
          "output_type": "execute_result"
        }
      ],
      "source": [
        "points = torch.zeros(3, 2)\n",
        "points"
      ]
    },
    {
      "cell_type": "code",
      "execution_count": null,
      "metadata": {
        "id": "20cTWjIRc7vb",
        "outputId": "1196be30-289c-4edc-c5d2-bf2e001df4c2"
      },
      "outputs": [
        {
          "data": {
            "text/plain": [
              "tensor([[4., 1.],\n",
              "        [5., 3.],\n",
              "        [2., 1.]])"
            ]
          },
          "execution_count": 14,
          "metadata": {},
          "output_type": "execute_result"
        }
      ],
      "source": [
        "points = torch.tensor([[4.0, 1.0], [5.0, 3.0], [2.0, 1.0]])\n",
        "points"
      ]
    },
    {
      "cell_type": "code",
      "execution_count": null,
      "metadata": {
        "id": "_uFvnWB4c7vb",
        "outputId": "a7d14d74-9622-4549-ec50-9659861e9c5a"
      },
      "outputs": [
        {
          "data": {
            "text/plain": [
              "tensor(1.)"
            ]
          },
          "execution_count": 15,
          "metadata": {},
          "output_type": "execute_result"
        }
      ],
      "source": [
        "points[0, 1]"
      ]
    },
    {
      "cell_type": "code",
      "execution_count": null,
      "metadata": {
        "id": "JOZP2Esnc7vb",
        "outputId": "ff6829ae-4b13-45f8-db42-d8a3c4e59700"
      },
      "outputs": [
        {
          "data": {
            "text/plain": [
              "tensor([4., 1.])"
            ]
          },
          "execution_count": 16,
          "metadata": {},
          "output_type": "execute_result"
        }
      ],
      "source": [
        "points[0]"
      ]
    },
    {
      "cell_type": "code",
      "execution_count": null,
      "metadata": {
        "id": "3LaYk4wyc7vb",
        "outputId": "6d3738d7-536b-4e32-fd1b-3e6dfb34ada3"
      },
      "outputs": [
        {
          "data": {
            "text/plain": [
              " 4.0\n",
              " 1.0\n",
              " 5.0\n",
              " 3.0\n",
              " 2.0\n",
              " 1.0\n",
              "[torch.FloatStorage of size 6]"
            ]
          },
          "execution_count": 17,
          "metadata": {},
          "output_type": "execute_result"
        }
      ],
      "source": [
        "points = torch.tensor([[4.0, 1.0], [5.0, 3.0], [2.0, 1.0]])\n",
        "points.storage()"
      ]
    },
    {
      "cell_type": "code",
      "execution_count": null,
      "metadata": {
        "id": "WzJPz-rbc7vb",
        "outputId": "cff5b83e-039b-410c-979a-0e9d6acedc40"
      },
      "outputs": [
        {
          "data": {
            "text/plain": [
              "4.0"
            ]
          },
          "execution_count": 18,
          "metadata": {},
          "output_type": "execute_result"
        }
      ],
      "source": [
        "points_storage = points.storage()\n",
        "points_storage[0]"
      ]
    },
    {
      "cell_type": "code",
      "execution_count": null,
      "metadata": {
        "id": "3RLqlitic7vb",
        "outputId": "61fbccb8-d703-43c2-e5f6-22a76891c894"
      },
      "outputs": [
        {
          "data": {
            "text/plain": [
              "1.0"
            ]
          },
          "execution_count": 19,
          "metadata": {},
          "output_type": "execute_result"
        }
      ],
      "source": [
        "points.storage()[1]"
      ]
    },
    {
      "cell_type": "code",
      "execution_count": null,
      "metadata": {
        "id": "OH-EDVtgc7vc",
        "outputId": "8d3c4000-da5b-4312-a9ad-f0a723932ee0"
      },
      "outputs": [
        {
          "data": {
            "text/plain": [
              "tensor([[2., 1.],\n",
              "        [5., 3.],\n",
              "        [2., 1.]])"
            ]
          },
          "execution_count": 20,
          "metadata": {},
          "output_type": "execute_result"
        }
      ],
      "source": [
        "points = torch.tensor([[4.0, 1.0], [5.0, 3.0], [2.0, 1.0]])\n",
        "points_storage = points.storage()\n",
        "points_storage[0] = 2.0\n",
        "points"
      ]
    },
    {
      "cell_type": "code",
      "execution_count": null,
      "metadata": {
        "id": "yKK7Mo79c7vc",
        "outputId": "cc3c4d81-53b2-47b3-d51b-c2e60df81455"
      },
      "outputs": [
        {
          "data": {
            "text/plain": [
              "2"
            ]
          },
          "execution_count": 21,
          "metadata": {},
          "output_type": "execute_result"
        }
      ],
      "source": [
        "points = torch.tensor([[4.0, 1.0], [5.0, 3.0], [2.0, 1.0]])\n",
        "second_point = points[1]\n",
        "second_point.storage_offset()"
      ]
    },
    {
      "cell_type": "code",
      "execution_count": null,
      "metadata": {
        "id": "SoZvozlrc7vc",
        "outputId": "aa598852-349d-42bb-ac73-f52ac5d06e60"
      },
      "outputs": [
        {
          "data": {
            "text/plain": [
              "torch.Size([2])"
            ]
          },
          "execution_count": 22,
          "metadata": {},
          "output_type": "execute_result"
        }
      ],
      "source": [
        "second_point.size()"
      ]
    },
    {
      "cell_type": "code",
      "execution_count": null,
      "metadata": {
        "id": "mz1H9ru8c7vc",
        "outputId": "626dbc72-0ca6-4c98-eaa9-75484a2b0702"
      },
      "outputs": [
        {
          "data": {
            "text/plain": [
              "torch.Size([2])"
            ]
          },
          "execution_count": 23,
          "metadata": {},
          "output_type": "execute_result"
        }
      ],
      "source": [
        "second_point.shape"
      ]
    },
    {
      "cell_type": "code",
      "execution_count": null,
      "metadata": {
        "id": "XaUS0Hx5c7vc",
        "outputId": "474f88d3-c702-4514-c5c4-831e2f53da58"
      },
      "outputs": [
        {
          "data": {
            "text/plain": [
              "(2, 1)"
            ]
          },
          "execution_count": 24,
          "metadata": {},
          "output_type": "execute_result"
        }
      ],
      "source": [
        "points.stride()"
      ]
    },
    {
      "cell_type": "code",
      "execution_count": null,
      "metadata": {
        "id": "WGcNkDEGc7vc",
        "outputId": "1a6ea06e-4f9a-49de-c52b-bfba0c0a1ef5"
      },
      "outputs": [
        {
          "data": {
            "text/plain": [
              "torch.Size([2])"
            ]
          },
          "execution_count": 25,
          "metadata": {},
          "output_type": "execute_result"
        }
      ],
      "source": [
        "second_point = points[1]\n",
        "second_point.size()"
      ]
    },
    {
      "cell_type": "code",
      "execution_count": null,
      "metadata": {
        "id": "47TTiatmc7vc",
        "outputId": "6f70ae29-3b74-40d2-8ad4-55a5200e8254"
      },
      "outputs": [
        {
          "data": {
            "text/plain": [
              "2"
            ]
          },
          "execution_count": 26,
          "metadata": {},
          "output_type": "execute_result"
        }
      ],
      "source": [
        "second_point.storage_offset()"
      ]
    },
    {
      "cell_type": "code",
      "execution_count": null,
      "metadata": {
        "id": "NNuGxgmkc7vc",
        "outputId": "867694df-0696-450a-a770-4f047737a4de"
      },
      "outputs": [
        {
          "data": {
            "text/plain": [
              "(1,)"
            ]
          },
          "execution_count": 27,
          "metadata": {},
          "output_type": "execute_result"
        }
      ],
      "source": [
        "second_point.stride()"
      ]
    },
    {
      "cell_type": "code",
      "execution_count": null,
      "metadata": {
        "id": "DCHkTwspc7vc",
        "outputId": "33744cce-7c3c-4458-de8d-14485dc0a816"
      },
      "outputs": [
        {
          "data": {
            "text/plain": [
              "tensor([[ 4.,  1.],\n",
              "        [10.,  3.],\n",
              "        [ 2.,  1.]])"
            ]
          },
          "execution_count": 28,
          "metadata": {},
          "output_type": "execute_result"
        }
      ],
      "source": [
        "points = torch.tensor([[4.0, 1.0], [5.0, 3.0], [2.0, 1.0]])\n",
        "second_point = points[1]\n",
        "second_point[0] = 10.0\n",
        "points"
      ]
    },
    {
      "cell_type": "code",
      "execution_count": null,
      "metadata": {
        "id": "cFf1RSnKc7vd",
        "outputId": "1707c27e-da09-48e1-b92d-ff62a59e3474"
      },
      "outputs": [
        {
          "data": {
            "text/plain": [
              "tensor([[4., 1.],\n",
              "        [5., 3.],\n",
              "        [2., 1.]])"
            ]
          },
          "execution_count": 29,
          "metadata": {},
          "output_type": "execute_result"
        }
      ],
      "source": [
        "points = torch.tensor([[4.0, 1.0], [5.0, 3.0], [2.0, 1.0]])\n",
        "second_point = points[1].clone()\n",
        "second_point[0] = 10.0\n",
        "points"
      ]
    },
    {
      "cell_type": "code",
      "execution_count": null,
      "metadata": {
        "id": "fcdsoOmic7vd",
        "outputId": "bf295409-d973-41c0-d54f-6517d90fcfdf"
      },
      "outputs": [
        {
          "data": {
            "text/plain": [
              "tensor([[4., 1.],\n",
              "        [5., 3.],\n",
              "        [2., 1.]])"
            ]
          },
          "execution_count": 30,
          "metadata": {},
          "output_type": "execute_result"
        }
      ],
      "source": [
        "points = torch.tensor([[4.0, 1.0], [5.0, 3.0], [2.0, 1.0]])\n",
        "points"
      ]
    },
    {
      "cell_type": "code",
      "execution_count": null,
      "metadata": {
        "id": "rqs5aXCqc7vd",
        "outputId": "4825e2ab-2e75-40cc-95a0-8e554bb2bd43"
      },
      "outputs": [
        {
          "data": {
            "text/plain": [
              "tensor([[4., 5., 2.],\n",
              "        [1., 3., 1.]])"
            ]
          },
          "execution_count": 31,
          "metadata": {},
          "output_type": "execute_result"
        }
      ],
      "source": [
        "points_t = points.t()\n",
        "points_t"
      ]
    },
    {
      "cell_type": "code",
      "execution_count": null,
      "metadata": {
        "id": "zVrAkeBDc7vd",
        "outputId": "a474cf84-38b9-4fef-a8d9-0c278a79880c"
      },
      "outputs": [
        {
          "data": {
            "text/plain": [
              "True"
            ]
          },
          "execution_count": 32,
          "metadata": {},
          "output_type": "execute_result"
        }
      ],
      "source": [
        "id(points.storage()) == id(points_t.storage())"
      ]
    },
    {
      "cell_type": "code",
      "execution_count": null,
      "metadata": {
        "id": "dBVrrQvJc7vd",
        "outputId": "658e5bc9-f08a-4bc1-d4ec-b71bdedb7a5f"
      },
      "outputs": [
        {
          "data": {
            "text/plain": [
              "(2, 1)"
            ]
          },
          "execution_count": 33,
          "metadata": {},
          "output_type": "execute_result"
        }
      ],
      "source": [
        "points.stride()"
      ]
    },
    {
      "cell_type": "code",
      "execution_count": null,
      "metadata": {
        "id": "X6kiEcQqc7vd",
        "outputId": "63dfb184-aa5e-4dbf-c99a-b645f49127a4"
      },
      "outputs": [
        {
          "data": {
            "text/plain": [
              "(1, 2)"
            ]
          },
          "execution_count": 34,
          "metadata": {},
          "output_type": "execute_result"
        }
      ],
      "source": [
        "points_t.stride()"
      ]
    },
    {
      "cell_type": "code",
      "execution_count": null,
      "metadata": {
        "id": "0IKq5O8Vc7vd",
        "outputId": "a0073329-a095-4e0e-bd25-5fe5f808aa72"
      },
      "outputs": [
        {
          "data": {
            "text/plain": [
              "torch.Size([3, 4, 5])"
            ]
          },
          "execution_count": 35,
          "metadata": {},
          "output_type": "execute_result"
        }
      ],
      "source": [
        "some_t = torch.ones(3, 4, 5)\n",
        "transpose_t = some_t.transpose(0, 2)\n",
        "some_t.shape"
      ]
    },
    {
      "cell_type": "code",
      "execution_count": null,
      "metadata": {
        "id": "Nb4Da3-sc7vd",
        "outputId": "e913ee13-ac5f-4c65-aa99-d634513f9060"
      },
      "outputs": [
        {
          "data": {
            "text/plain": [
              "torch.Size([5, 4, 3])"
            ]
          },
          "execution_count": 36,
          "metadata": {},
          "output_type": "execute_result"
        }
      ],
      "source": [
        "transpose_t.shape"
      ]
    },
    {
      "cell_type": "code",
      "execution_count": null,
      "metadata": {
        "id": "bzKIjncNc7vd",
        "outputId": "5249c51d-f718-41bb-9248-66ee165f3857"
      },
      "outputs": [
        {
          "data": {
            "text/plain": [
              "(20, 5, 1)"
            ]
          },
          "execution_count": 37,
          "metadata": {},
          "output_type": "execute_result"
        }
      ],
      "source": [
        "some_t.stride()"
      ]
    },
    {
      "cell_type": "code",
      "execution_count": null,
      "metadata": {
        "id": "b3Nage0tc7vd",
        "outputId": "686b23ca-ed5d-4851-8963-98edf543e229"
      },
      "outputs": [
        {
          "data": {
            "text/plain": [
              "(1, 5, 20)"
            ]
          },
          "execution_count": 38,
          "metadata": {},
          "output_type": "execute_result"
        }
      ],
      "source": [
        "transpose_t.stride()"
      ]
    },
    {
      "cell_type": "code",
      "execution_count": null,
      "metadata": {
        "id": "pzL_hKFDc7ve",
        "outputId": "44d07e80-9942-493c-d0c1-5b907845b321"
      },
      "outputs": [
        {
          "data": {
            "text/plain": [
              "True"
            ]
          },
          "execution_count": 39,
          "metadata": {},
          "output_type": "execute_result"
        }
      ],
      "source": [
        "points.is_contiguous()"
      ]
    },
    {
      "cell_type": "code",
      "execution_count": null,
      "metadata": {
        "id": "sOH1zvwHc7vi",
        "outputId": "5fc20cdd-82be-4bca-c74b-b91ea00803eb"
      },
      "outputs": [
        {
          "data": {
            "text/plain": [
              "False"
            ]
          },
          "execution_count": 40,
          "metadata": {},
          "output_type": "execute_result"
        }
      ],
      "source": [
        "points_t.is_contiguous()"
      ]
    },
    {
      "cell_type": "code",
      "execution_count": null,
      "metadata": {
        "id": "N-HyCD6jc7vi",
        "outputId": "86bd220b-7f6d-4849-dc53-c9b27eff693a"
      },
      "outputs": [
        {
          "data": {
            "text/plain": [
              "tensor([[4., 5., 2.],\n",
              "        [1., 3., 1.]])"
            ]
          },
          "execution_count": 41,
          "metadata": {},
          "output_type": "execute_result"
        }
      ],
      "source": [
        "points = torch.tensor([[4.0, 1.0], [5.0, 3.0], [2.0, 1.0]])\n",
        "points_t = points.t()\n",
        "points_t"
      ]
    },
    {
      "cell_type": "code",
      "execution_count": null,
      "metadata": {
        "id": "MdTxoQxcc7vi",
        "outputId": "855ff9b0-0418-4617-8898-eef76fa85909"
      },
      "outputs": [
        {
          "data": {
            "text/plain": [
              " 4.0\n",
              " 1.0\n",
              " 5.0\n",
              " 3.0\n",
              " 2.0\n",
              " 1.0\n",
              "[torch.FloatStorage of size 6]"
            ]
          },
          "execution_count": 42,
          "metadata": {},
          "output_type": "execute_result"
        }
      ],
      "source": [
        "points_t.storage()"
      ]
    },
    {
      "cell_type": "code",
      "execution_count": null,
      "metadata": {
        "id": "CriTAaglc7vi",
        "outputId": "103b75fb-756a-4ded-f4fa-c8572823a6cc"
      },
      "outputs": [
        {
          "data": {
            "text/plain": [
              "(1, 2)"
            ]
          },
          "execution_count": 43,
          "metadata": {},
          "output_type": "execute_result"
        }
      ],
      "source": [
        "points_t.stride()"
      ]
    },
    {
      "cell_type": "code",
      "execution_count": null,
      "metadata": {
        "id": "KCEgxy7oc7vi",
        "outputId": "b6563b02-b329-4842-f786-b8593bba29de"
      },
      "outputs": [
        {
          "data": {
            "text/plain": [
              "tensor([[4., 5., 2.],\n",
              "        [1., 3., 1.]])"
            ]
          },
          "execution_count": 44,
          "metadata": {},
          "output_type": "execute_result"
        }
      ],
      "source": [
        "points_t_cont = points_t.contiguous()\n",
        "points_t_cont"
      ]
    },
    {
      "cell_type": "code",
      "execution_count": null,
      "metadata": {
        "id": "iK4Wh0_7c7vi",
        "outputId": "afd17128-ee39-4da6-e4e6-80606b047fbe"
      },
      "outputs": [
        {
          "data": {
            "text/plain": [
              "(3, 1)"
            ]
          },
          "execution_count": 45,
          "metadata": {},
          "output_type": "execute_result"
        }
      ],
      "source": [
        "points_t_cont.stride()"
      ]
    },
    {
      "cell_type": "code",
      "execution_count": null,
      "metadata": {
        "id": "6-jwO9cac7vi",
        "outputId": "7abb3c44-62eb-473c-b211-506262c2795d"
      },
      "outputs": [
        {
          "data": {
            "text/plain": [
              " 4.0\n",
              " 5.0\n",
              " 2.0\n",
              " 1.0\n",
              " 3.0\n",
              " 1.0\n",
              "[torch.FloatStorage of size 6]"
            ]
          },
          "execution_count": 46,
          "metadata": {},
          "output_type": "execute_result"
        }
      ],
      "source": [
        "points_t_cont.storage()"
      ]
    },
    {
      "cell_type": "code",
      "execution_count": null,
      "metadata": {
        "id": "mxtqy7U1c7vj"
      },
      "outputs": [],
      "source": [
        "double_points = torch.ones(10, 2, dtype=torch.double)\n",
        "short_points = torch.tensor([[1, 2], [3, 4]], dtype=torch.short)"
      ]
    },
    {
      "cell_type": "code",
      "execution_count": null,
      "metadata": {
        "id": "0Z_5ClxPc7vj",
        "outputId": "9f2341e0-c7c2-411d-d0c0-b95cace058bd"
      },
      "outputs": [
        {
          "data": {
            "text/plain": [
              "torch.int16"
            ]
          },
          "execution_count": 48,
          "metadata": {},
          "output_type": "execute_result"
        }
      ],
      "source": [
        "short_points.dtype"
      ]
    },
    {
      "cell_type": "code",
      "execution_count": null,
      "metadata": {
        "id": "vEnwZqoUc7vj"
      },
      "outputs": [],
      "source": [
        "double_points = torch.zeros(10, 2).double()\n",
        "short_points = torch.ones(10, 2).short()"
      ]
    },
    {
      "cell_type": "code",
      "execution_count": null,
      "metadata": {
        "id": "KAAa0gU2c7vj"
      },
      "outputs": [],
      "source": [
        "double_points = torch.zeros(10, 2).to(torch.double)\n",
        "short_points = torch.ones(10, 2).to(dtype=torch.short)"
      ]
    },
    {
      "cell_type": "code",
      "execution_count": null,
      "metadata": {
        "id": "wXix-67fc7vj",
        "outputId": "295a9f5a-99d8-49d5-c4c4-29af1ac50c6a"
      },
      "outputs": [
        {
          "data": {
            "text/plain": [
              "tensor([0., 0., 0., 0., 0.], dtype=torch.float64)"
            ]
          },
          "execution_count": 51,
          "metadata": {},
          "output_type": "execute_result"
        }
      ],
      "source": [
        "points_64 = torch.rand(5, dtype=torch.double)  # <1>\n",
        "points_short = points_64.to(torch.short)\n",
        "points_64 * points_short  # works from PyTorch 1.3 onwards"
      ]
    },
    {
      "cell_type": "code",
      "execution_count": null,
      "metadata": {
        "id": "a_GAVZkSc7vj"
      },
      "outputs": [],
      "source": [
        "# reset points back to original value\n",
        "points = torch.tensor([[4.0, 1.0], [5.0, 3.0], [2.0, 1.0]])"
      ]
    },
    {
      "cell_type": "code",
      "execution_count": null,
      "metadata": {
        "id": "kJLDWnzxc7vj",
        "outputId": "ca385c98-bec5-4be9-e8a3-1c2efaae6aac"
      },
      "outputs": [
        {
          "data": {
            "text/plain": [
              "[1, 3]"
            ]
          },
          "execution_count": 53,
          "metadata": {},
          "output_type": "execute_result"
        }
      ],
      "source": [
        "some_list = list(range(6))\n",
        "some_list[:]     # <1>\n",
        "some_list[1:4]   # <2>\n",
        "some_list[1:]    # <3>\n",
        "some_list[:4]    # <4>\n",
        "some_list[:-1]   # <5>\n",
        "some_list[1:4:2] # <6>"
      ]
    },
    {
      "cell_type": "code",
      "execution_count": null,
      "metadata": {
        "id": "L7SXqJH1c7vj",
        "outputId": "2a58503d-fba0-4a92-9baa-42b09f001a7b"
      },
      "outputs": [
        {
          "data": {
            "text/plain": [
              "tensor([[[4., 1.],\n",
              "         [5., 3.],\n",
              "         [2., 1.]]])"
            ]
          },
          "execution_count": 54,
          "metadata": {},
          "output_type": "execute_result"
        }
      ],
      "source": [
        "points[1:]       # <1>\n",
        "points[1:, :]    # <2>\n",
        "points[1:, 0]    # <3>\n",
        "points[None]     # <4>"
      ]
    },
    {
      "cell_type": "code",
      "execution_count": null,
      "metadata": {
        "id": "z2ngm7u-c7vj",
        "outputId": "4bc296e0-33cb-40c5-f528-746eb181bcee"
      },
      "outputs": [
        {
          "data": {
            "text/plain": [
              "array([[1., 1., 1., 1.],\n",
              "       [1., 1., 1., 1.],\n",
              "       [1., 1., 1., 1.]], dtype=float32)"
            ]
          },
          "execution_count": 55,
          "metadata": {},
          "output_type": "execute_result"
        }
      ],
      "source": [
        "points = torch.ones(3, 4)\n",
        "points_np = points.numpy()\n",
        "points_np"
      ]
    },
    {
      "cell_type": "code",
      "execution_count": null,
      "metadata": {
        "id": "Z6e8WJOdc7vj"
      },
      "outputs": [],
      "source": [
        "points = torch.from_numpy(points_np)"
      ]
    },
    {
      "cell_type": "code",
      "execution_count": null,
      "metadata": {
        "id": "9HarW8e1c7vk"
      },
      "outputs": [],
      "source": [
        "torch.save(points, '../data/p1ch3/ourpoints.t')"
      ]
    },
    {
      "cell_type": "code",
      "execution_count": null,
      "metadata": {
        "id": "Ft_C1LxPc7vk"
      },
      "outputs": [],
      "source": [
        "with open('../data/p1ch3/ourpoints.t','wb') as f:\n",
        "   torch.save(points, f)"
      ]
    },
    {
      "cell_type": "code",
      "execution_count": null,
      "metadata": {
        "id": "DQ1yI-M1c7vk"
      },
      "outputs": [],
      "source": [
        "points = torch.load('../data/p1ch3/ourpoints.t')"
      ]
    },
    {
      "cell_type": "code",
      "execution_count": null,
      "metadata": {
        "id": "uGqnW26Oc7vk"
      },
      "outputs": [],
      "source": [
        "with open('../data/p1ch3/ourpoints.t','rb') as f:\n",
        "   points = torch.load(f)"
      ]
    },
    {
      "cell_type": "code",
      "execution_count": null,
      "metadata": {
        "id": "zUMSgLO1c7vk"
      },
      "outputs": [],
      "source": [
        "import h5py\n",
        "\n",
        "f = h5py.File('../data/p1ch3/ourpoints.hdf5', 'w')\n",
        "dset = f.create_dataset('coords', data=points.numpy())\n",
        "f.close()"
      ]
    },
    {
      "cell_type": "code",
      "execution_count": null,
      "metadata": {
        "id": "Ux6Up6LSc7vk"
      },
      "outputs": [],
      "source": [
        "f = h5py.File('../data/p1ch3/ourpoints.hdf5', 'r')\n",
        "dset = f['coords']\n",
        "last_points = dset[-2:]"
      ]
    },
    {
      "cell_type": "code",
      "execution_count": null,
      "metadata": {
        "id": "HXIisRYsc7vk"
      },
      "outputs": [],
      "source": [
        "last_points = torch.from_numpy(dset[-2:])\n",
        "f.close()"
      ]
    },
    {
      "cell_type": "code",
      "execution_count": null,
      "metadata": {
        "id": "WW0jn8sNc7vk"
      },
      "outputs": [],
      "source": [
        "points_gpu = torch.tensor([[4.0, 1.0], [5.0, 3.0], [2.0, 1.0]], device='cuda')"
      ]
    },
    {
      "cell_type": "code",
      "execution_count": null,
      "metadata": {
        "id": "8eDGnpQhc7vk"
      },
      "outputs": [],
      "source": [
        "points_gpu = points.to(device='cuda')"
      ]
    },
    {
      "cell_type": "code",
      "execution_count": null,
      "metadata": {
        "id": "WjcMd9tyc7vk"
      },
      "outputs": [],
      "source": [
        "points_gpu = points.to(device='cuda:0')"
      ]
    },
    {
      "cell_type": "code",
      "execution_count": null,
      "metadata": {
        "id": "20G9SGE0c7vk"
      },
      "outputs": [],
      "source": [
        "points = 2 * points  # <1>\n",
        "points_gpu = 2 * points.to(device='cuda')  # <2>"
      ]
    },
    {
      "cell_type": "code",
      "execution_count": null,
      "metadata": {
        "id": "u6CALBgDc7vl"
      },
      "outputs": [],
      "source": [
        "points_gpu = points_gpu + 4"
      ]
    },
    {
      "cell_type": "code",
      "execution_count": null,
      "metadata": {
        "id": "TtrvQY_7c7vl"
      },
      "outputs": [],
      "source": [
        "points_cpu = points_gpu.to(device='cpu')"
      ]
    },
    {
      "cell_type": "code",
      "execution_count": null,
      "metadata": {
        "id": "34YByytKc7vl"
      },
      "outputs": [],
      "source": [
        "points_gpu = points.cuda()  # <1>\n",
        "points_gpu = points.cuda(0)\n",
        "points_cpu = points_gpu.cpu()"
      ]
    },
    {
      "cell_type": "code",
      "execution_count": null,
      "metadata": {
        "id": "NVvzNho1c7vl",
        "outputId": "57982912-82c3-4edb-e8cf-3a7ff4208470"
      },
      "outputs": [
        {
          "data": {
            "text/plain": [
              "(torch.Size([3, 2]), torch.Size([2, 3]))"
            ]
          },
          "execution_count": 71,
          "metadata": {},
          "output_type": "execute_result"
        }
      ],
      "source": [
        "a = torch.ones(3, 2)\n",
        "a_t = torch.transpose(a, 0, 1)\n",
        "\n",
        "a.shape, a_t.shape"
      ]
    },
    {
      "cell_type": "code",
      "execution_count": null,
      "metadata": {
        "id": "J2i-Ty4Cc7vl",
        "outputId": "409d7dc3-735f-46ed-fbc0-96a601ba566a"
      },
      "outputs": [
        {
          "data": {
            "text/plain": [
              "(torch.Size([3, 2]), torch.Size([2, 3]))"
            ]
          },
          "execution_count": 72,
          "metadata": {},
          "output_type": "execute_result"
        }
      ],
      "source": [
        "a = torch.ones(3, 2)\n",
        "a_t = a.transpose(0, 1)\n",
        "\n",
        "a.shape, a_t.shape"
      ]
    },
    {
      "cell_type": "code",
      "execution_count": null,
      "metadata": {
        "id": "m-efBKDlc7vl"
      },
      "outputs": [],
      "source": [
        "a = torch.ones(3, 2)"
      ]
    },
    {
      "cell_type": "code",
      "execution_count": null,
      "metadata": {
        "id": "mRnV13B-c7vl",
        "outputId": "062c35b0-c05b-412f-b2b7-6618473b4d5d"
      },
      "outputs": [
        {
          "data": {
            "text/plain": [
              "tensor([[0., 0.],\n",
              "        [0., 0.],\n",
              "        [0., 0.]])"
            ]
          },
          "execution_count": 74,
          "metadata": {},
          "output_type": "execute_result"
        }
      ],
      "source": [
        "a.zero_()\n",
        "a"
      ]
    }
  ],
  "metadata": {
    "kernelspec": {
      "display_name": "Python 3",
      "language": "python",
      "name": "python3"
    },
    "language_info": {
      "codemirror_mode": {
        "name": "ipython",
        "version": 3
      },
      "file_extension": ".py",
      "mimetype": "text/x-python",
      "name": "python",
      "nbconvert_exporter": "python",
      "pygments_lexer": "ipython3",
      "version": "3.6.6"
    },
    "colab": {
      "provenance": []
    }
  },
  "nbformat": 4,
  "nbformat_minor": 0
}