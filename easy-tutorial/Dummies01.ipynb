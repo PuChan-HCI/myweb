{
  "nbformat": 4,
  "nbformat_minor": 0,
  "metadata": {
    "colab": {
      "provenance": [],
      "toc_visible": true,
      "authorship_tag": "ABX9TyOO85GGXKhO35nFp+x/zGiH",
      "include_colab_link": true
    },
    "kernelspec": {
      "name": "python3",
      "display_name": "Python 3"
    },
    "language_info": {
      "name": "python"
    }
  },
  "cells": [
    {
      "cell_type": "markdown",
      "metadata": {
        "id": "view-in-github",
        "colab_type": "text"
      },
      "source": [
        "<a href=\"https://colab.research.google.com/github/PuChan-HCI/myweb/blob/main/easy-tutorial/Dummies01.ipynb\" target=\"_parent\"><img src=\"https://colab.research.google.com/assets/colab-badge.svg\" alt=\"Open In Colab\"/></a>"
      ]
    },
    {
      "cell_type": "markdown",
      "source": [
        "# PyTorch で学ぶ！やさしい Deep Learning\n",
        "\n",
        "Deep Learning は数学が難しそうという理由で敬遠されがちですが、最近はフレームワークの発達により難しい数学がわからなくてもできるようになってきています。\n",
        "本書では PyTorch を使って、Deep Learning の基礎を学びます。\n",
        "初めてでも大丈夫、数学が苦手でも大丈夫、そんな本を目指します。\n",
        "\n",
        "元記事：https://zenn.dev/seelog/books/easy_deep_learning"
      ],
      "metadata": {
        "id": "6Q2DUExW3CPm"
      }
    },
    {
      "cell_type": "markdown",
      "source": [
        "## はじめに\n",
        "\n",
        "この本では \"難しい数学がわからなくてもできる Deep Learning\" を目指します。\n",
        "以下のような方に向いています。\n",
        "\n",
        "*   Deep Learning に興味があるが、数学が難しそうで手を出せなかった人\n",
        "*   軽い気持ちで Deep Learning をやってみたい人\n",
        "*   なんか流行ってるものが好きな人\n",
        "\n",
        "以下の方には向いていません\n",
        "\n",
        "* ブラックボックスな Deep Learning の深淵を知りたい人\n",
        "* Deep Learning の数学的な背景を知りたい人\n",
        "* Deep Learning のプロ\n",
        "* 数式はともかく、グラフですら数学アレルギーが出てしまう人"
      ],
      "metadata": {
        "id": "8Yle3hPF3zJO"
      }
    },
    {
      "cell_type": "markdown",
      "source": [
        "## Deep Learning とは？"
      ],
      "metadata": {
        "id": "jmcs7sNX9Wo9"
      }
    },
    {
      "cell_type": "markdown",
      "source": [
        "### AIと何が違う？\n",
        "Deep Learning の類語として、よく以下のようなものを聞くと思います。\n",
        "\n",
        "* 人工知能(AI)\n",
        "* 機械学習\n",
        "* 深層学習\n",
        "* ニューラルネットワーク\n",
        "\n",
        "これらは意味的に近いところにあると思いがちです。\n",
        "人工知能の作り方のひとつのアプローチとして機械学習があります。\n",
        "機械学習を行う技法の中に深層学習、つまり Deep Learning があります。\n",
        "そして Deep Learning はニューラルネットワークをいい感じに組み合わせて構成されます。\n",
        "\n",
        "このような関係になっています。\n",
        "機械学習を行う技法は他に、例えばサポートベクターマシン(Support Vector Machine, SVM)や決定木(Decision Tree)などがあります。\n",
        "\n"
      ],
      "metadata": {
        "id": "ZfJlV-Ct4Vjk"
      }
    },
    {
      "cell_type": "markdown",
      "source": [
        "### \"Deep\" とは？\n",
        "\n",
        "Deep Learning という言葉の \"Deep\" とは、ニューラルネットワークの層が深く、たくさんあるよ、という意味の \"Deep\" です。一般に単層のニューラルネットワークより、多層のニューラルネットワークの方が良い精度が出ます。\n",
        "\n",
        "<img src=\"https://storage.googleapis.com/zenn-user-upload/e62f4d09ce6e-20230202.png\" width=\"70%\">\n",
        "\n",
        "この理由はある程度はっきりしていて、単純に多層になると内部に存在するパラメータの数が増えて、より表現力が上がり、より複雑な関係を表現できるようになるからです。\n",
        "パラメータとは、学習の過程で変化する値、あるいは値の集合のことです。上記の図の○の中にパラメータがあると思ってください。○は各々異なるパラメータを持つことができます。\n",
        "ということは、より多く、そして深いほど、より複雑な表現力を持つということです。\n",
        "\n",
        "ヒトも進化の過程で脳味噌が大きくなって、つまりニューロンが増えて、より複雑な思考力を持つようになったのと同じようなものです。\n",
        "\n",
        "何層からが \"Deep\" なのか、これは多分人によって違うと思います。\n",
        "一般的には 3 層以上が \"Deep\" と言われていますが、明確な定義みたいなものはないと思います。(個人の感想です。)"
      ],
      "metadata": {
        "id": "Elk_fgqY9fB7"
      }
    },
    {
      "cell_type": "markdown",
      "source": [
        "### 何ができるのか？\n",
        "\n",
        "Deep Learning では何ができるのでしょうか？\n",
        "ざっくり言うと、非線形な問題の答えを予測することができます。\n",
        "\n",
        "非線形な問題とは、線形な問題とは逆に、線形な関係を持たない問題のことです。\n",
        "と言ってもしっくりこないと思うので図で説明します。\n",
        "\n"
      ],
      "metadata": {
        "id": "VH-3IBQa9m3j"
      }
    },
    {
      "cell_type": "markdown",
      "source": [
        "### 線形、非線形について\n",
        "以下のような分布のデータを想像してみましょう。\n",
        "\n",
        "<img src=\"https://storage.googleapis.com/zenn-user-upload/a2749b2c2c9b-20230202.png\" width=\"80%\">\n",
        "\n",
        "\n",
        "この△のデータと○のデータをうまく分ける直線を考えてみてください。\n",
        "直感でいいです。\n",
        "\n",
        "だいたいこんな感じの直線が考えられると思います。\n",
        "\n",
        "<img src=\"https://storage.googleapis.com/zenn-user-upload/d9d7f984d4d7-20230202.png\" width=\"80%\">\n",
        "\n",
        "△および○の最も近いデータと直線との距離が最も大きくなるような直線を考えています。\n",
        "このような直線だと、まだ知らない未知の△や○のデータがやってきても、うまい具合に分類できそうですね。\n",
        "ちなみに例えば SVM という技法を用いると、このような典型的な境界が得られます。\n",
        "\n",
        "直線を引くことで、△と○のデータをうまく分けることができました。\n",
        "そう、これが線形な問題を解くということです。\n",
        "\n",
        "では、以下のような分布のデータを考えてみましょう。\n",
        "\n",
        "<img src=\"https://storage.googleapis.com/zenn-user-upload/d9d7f984d4d7-20230202.png\" width=\"80%\">\n",
        "\n",
        "このようなデータをうまく分ける境界はどうでしょうか？\n",
        "直感的に、直線で分けることはできないように思います。\n",
        "\n",
        "このようなデータをこのままうまく分ける直線は存在しません。\n",
        "\n",
        "私は人間ですので、何となくこんな感じか？と楕円で境界を引きました。\n",
        "\n",
        "<img src=\"https://storage.googleapis.com/zenn-user-upload/f74ca5c39eb2-20230202.png\" width=\"80%\">\n",
        "\n"
      ],
      "metadata": {
        "id": "U79DnVJZ9vFK"
      }
    },
    {
      "cell_type": "markdown",
      "source": [
        "### なぜ Deep Learning を使うのか？\n",
        "ざっくり言うと、Deep Learning でうまくモデリングしてデータを用意して学習をさせると精度が出るからです。\n",
        "それはそう、という感じのお話ですね。\n",
        "\n",
        "その強力さはどこから来るのか、実は正確にはわかっていません。\n",
        "\n",
        "なんかうまくいくから、というのはやや気持ち悪さがあるかもしれませんが、なんかうまくいくから、なんかうまくいくのです。\n",
        "\n",
        "よく人間の脳神経細胞(ニューロン)を模倣した構造をしているからうまくいく、のような説明がされますが、実際のところ本当にそうなのかはわかっていません。(そして全然ニューロンを模倣できていないぞ、という説もあります。)\n",
        "\n",
        "<img src=\"https://storage.googleapis.com/zenn-user-upload/15d0907adb37-20230202.png\" width=\"80%\">"
      ],
      "metadata": {
        "id": "0hh4V0-O-TQf"
      }
    },
    {
      "cell_type": "markdown",
      "source": [
        "## PyTorchの基本"
      ],
      "metadata": {
        "id": "ThhTbbaT8Xx_"
      }
    },
    {
      "cell_type": "markdown",
      "source": [
        "### PyTorch\n",
        "この章では Deep Learning の構造や学習がどうなっているのかを説明するよりも前に、まず PyTorch の基本的な使い方を学びます。\n",
        "PyTorch は Python 用の機械学習ライブラリです。有名な Python 数値計算ライブラリに NumPy がありますが、PyTorch も NumPy とよく似たインターフェースをしています。\n",
        "さらに PyTorch は GPU を使った高速な計算ができるように設計されています。"
      ],
      "metadata": {
        "id": "RMiwCBMu9EwW"
      }
    },
    {
      "cell_type": "markdown",
      "source": [
        "### テンソル(Tensor)\n",
        "テンソルという言葉を聞いたことはありますか？\n",
        "Tensorflow の Tensor と同じです。\n",
        "\n",
        "行列あるいはベクトル、スカラーという言葉は聞いたことがありますか？ありますね？\n",
        "テンソルはその行列やベクトルの考え方をより拡張させたものです。\n",
        "0階のテンソルがスカラー、1階のテンソルがベクトル、2階のテンソルが行列に相当します。\n",
        "3階のテンソルは行列の集まり、4階のテンソルは3階のテンソルの集まりというように、階数が増えるごとに次元が増えていきます。\n",
        "\n",
        "<img src=\"https://storage.googleapis.com/zenn-user-upload/f6eb949a1a52-20230202.png\" width=\"80%\">\n",
        "\n",
        "ぐえ〜〜となりそうですが、待ってください。プログラムを組んだことがある方なら、このような概念と既に出会ったことがあるはずです。\n"
      ],
      "metadata": {
        "id": "5dXPTc339KaP"
      }
    },
    {
      "cell_type": "code",
      "execution_count": null,
      "metadata": {
        "id": "mK2xp12r28d-"
      },
      "outputs": [],
      "source": [
        "scalar = 3  # ただの量(1つの次元を持たない数字)\n",
        "\n",
        "vector = [3, 1, 2]  # 1次元の配列？\n",
        "\n",
        "matrix = [  # 2次元の配列？\n",
        "  [2, 9, 4],\n",
        "  [7, 5, 3],\n",
        "  [6, 1, 8],\n",
        "]\n",
        "\n",
        "tensor = [  # 3次元の配列？\n",
        "  [\n",
        "    [2, 9, 4],\n",
        "    [7, 5, 3],\n",
        "    [6, 1, 8],\n",
        "  ],\n",
        "  [\n",
        "    [2, 9, 4],\n",
        "    [7, 5, 3],\n",
        "    [6, 1, 8],\n",
        "  ],\n",
        "  [\n",
        "    [2, 9, 4],\n",
        "    [7, 5, 3],\n",
        "    [6, 1, 8],\n",
        "  ],\n",
        "]"
      ]
    },
    {
      "cell_type": "markdown",
      "source": [
        "プログラミングに馴染みのある方であれば、テンソルを多次元配列と捉えることで理解しやすくなると思います。"
      ],
      "metadata": {
        "id": "V4JrS8PM81WE"
      }
    },
    {
      "cell_type": "markdown",
      "source": [
        "### テンソルの \"Shape\"\n",
        "概念を理解していただいたところで、数え方について確認をします。\n",
        "例えば以下のような行列を想定しましょう。\n",
        "これはまだ数式じゃない、ただの数の集まりなのでセーフ。\n",
        "\n",
        "$$\n",
        "\\begin{pmatrix}\n",
        "2 & 9 \\\\\n",
        "7 & 5 \\\\\n",
        "6 & 1 \\\\\n",
        "\\end{pmatrix}\n",
        "$$\n",
        "\n",
        "このような行列は 3×2 の行列です。3×2 というのは、行が3つ、列が2つあるという意味です。\n",
        "\n",
        "このような𝑛×𝑚のような表現を Shape と呼びます。\n",
        "\n",
        "行列は2階のテンソルとみなせるのでした。では3階のテンソルの場合はどうでしょうか？\n",
        "\n",
        "例えば2×3×のテンソルは、2×3の行列が4つあると考えることができるので、以下のような形が思い浮かびそうです。\n",
        "\n",
        "<img src=\"https://storage.googleapis.com/zenn-user-upload/5d27e5aadf4a-20230202.png\" width=\"50%\">\n",
        "\n",
        "でもちょっと待って下さい。2つの3×4行列があるとも考えられそうです。(なんかこういう考え方しちゃだめって小学校で教えられそう)\n",
        "\n",
        "<img src=\"https://storage.googleapis.com/zenn-user-upload/b8d409dbf88a-20230202.png\" width=\"50%\">\n",
        "\n",
        "3階以上のテンソルの形を図示する場合の解釈は少し難しいです。\n",
        "PyTorch ではどのように表現されているのか、実際に見てみましょう。\n"
      ],
      "metadata": {
        "id": "9Fv_4EMS85Mf"
      }
    },
    {
      "cell_type": "code",
      "source": [
        "import torch\n",
        "\n",
        "# まずは 2x3x4 = 24 個の数字を持つベクトルを作成\n",
        "vector = torch.tensor([i for i in range(24)])\n",
        "\n",
        "# このベクトルを 2x3x4 の順番でテンソルに変換\n",
        "tensor_pattern = vector.view(2, 3, 4)\n",
        "print(tensor_pattern)"
      ],
      "metadata": {
        "id": "_cpOp8zRA-eA"
      },
      "execution_count": null,
      "outputs": []
    },
    {
      "cell_type": "markdown",
      "source": [
        "Python に慣れていない方は [i for i in range(24)] という書き方に戸惑うかもしれません。これは Python の**リスト内包表記**と呼ばれるもので、以下と同じ意味です。"
      ],
      "metadata": {
        "id": "sjXh15ikBBAA"
      }
    },
    {
      "cell_type": "code",
      "source": [
        "vector = []\n",
        "for i in range(24):\n",
        "  vector.append(i)"
      ],
      "metadata": {
        "id": "R7_p-4SABFHL"
      },
      "execution_count": null,
      "outputs": []
    },
    {
      "cell_type": "markdown",
      "source": [
        "つまり 0~23 の数字を持つベクトルを作成しているということです。\n",
        "リスト内包表記は Python ではよく使われるので、覚えておくと便利です。\n",
        "\n",
        "次に tensor_pattern = vector.view(2, 3, 4) という行を見てみましょう。view() というメソッドは、テンソルの形を変換するためのメソッドです。引数には、変換後のテンソルの形を渡せばよいです。\n",
        "\n",
        "今回は view(2, 3, 4) という引数を渡しているので、順に考えると\n",
        "2×3×4のテンソルに変換されます。\n",
        "\n",
        "では結果を見てみましょう。"
      ],
      "metadata": {
        "id": "_4IzrynkBHs3"
      }
    },
    {
      "cell_type": "code",
      "source": [
        "tensor(\n",
        "[[[ 0,  1,  2,  3],\n",
        "  [ 4,  5,  6,  7],\n",
        "  [ 8,  9, 10, 11]],\n",
        "\n",
        " [[12, 13, 14, 15],\n",
        "  [16, 17, 18, 19],\n",
        "  [20, 21, 22, 23]]]\n",
        ")"
      ],
      "metadata": {
        "id": "5Xi-MxooBQ_8"
      },
      "execution_count": null,
      "outputs": []
    },
    {
      "cell_type": "markdown",
      "source": [
        "このように3×4の行列が2つある、という形になっています。\n",
        "というわけで後者の扱い方である、2つの3×4行列があるという解釈がこの世界ではされていそうです。算数の先生大激怒です。"
      ],
      "metadata": {
        "id": "p6aMjczmBTUh"
      }
    }
  ]
}