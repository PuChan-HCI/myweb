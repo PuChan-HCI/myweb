{
  "nbformat": 4,
  "nbformat_minor": 0,
  "metadata": {
    "colab": {
      "provenance": [],
      "toc_visible": true,
      "authorship_tag": "ABX9TyOV/AbXVLTmTDikvwrbWbE7",
      "include_colab_link": true
    },
    "kernelspec": {
      "name": "python3",
      "display_name": "Python 3"
    },
    "language_info": {
      "name": "python"
    }
  },
  "cells": [
    {
      "cell_type": "markdown",
      "metadata": {
        "id": "view-in-github",
        "colab_type": "text"
      },
      "source": [
        "<a href=\"https://colab.research.google.com/github/PuChan-HCI/myweb/blob/main/easy-tutorial/Dummies01.ipynb\" target=\"_parent\"><img src=\"https://colab.research.google.com/assets/colab-badge.svg\" alt=\"Open In Colab\"/></a>"
      ]
    },
    {
      "cell_type": "markdown",
      "source": [
        "# PyTorch で学ぶ！やさしい Deep Learning\n",
        "\n",
        "Deep Learning は数学が難しそうという理由で敬遠されがちですが、最近はフレームワークの発達により難しい数学がわからなくてもできるようになってきています。\n",
        "本書では PyTorch を使って、Deep Learning の基礎を学びます。\n",
        "初めてでも大丈夫、数学が苦手でも大丈夫、そんな本を目指します。\n",
        "\n",
        "元記事：https://zenn.dev/seelog/books/easy_deep_learning"
      ],
      "metadata": {
        "id": "6Q2DUExW3CPm"
      }
    },
    {
      "cell_type": "markdown",
      "source": [
        "## はじめに\n",
        "\n",
        "この本では \"難しい数学がわからなくてもできる Deep Learning\" を目指します。\n",
        "以下のような方に向いています。\n",
        "\n",
        "*   Deep Learning に興味があるが、数学が難しそうで手を出せなかった人\n",
        "*   軽い気持ちで Deep Learning をやってみたい人\n",
        "*   なんか流行ってるものが好きな人\n",
        "\n",
        "以下の方には向いていません\n",
        "\n",
        "* ブラックボックスな Deep Learning の深淵を知りたい人\n",
        "* Deep Learning の数学的な背景を知りたい人\n",
        "* Deep Learning のプロ\n",
        "* 数式はともかく、グラフですら数学アレルギーが出てしまう人"
      ],
      "metadata": {
        "id": "8Yle3hPF3zJO"
      }
    },
    {
      "cell_type": "markdown",
      "source": [
        "## Deep Learning とは？\n",
        "\n",
        "Deep Learning の類語として、よく以下のようなものを聞くと思います。\n",
        "\n",
        "* 人工知能(AI)\n",
        "* 機械学習\n",
        "* 深層学習\n",
        "* ニューラルネットワーク\n",
        "\n",
        "これらは意味的に近いところにあると思いがちです。\n",
        "人工知能の作り方のひとつのアプローチとして機械学習があります。\n",
        "機械学習を行う技法の中に深層学習、つまり Deep Learning があります。\n",
        "そして Deep Learning はニューラルネットワークをいい感じに組み合わせて構成されます。\n",
        "\n",
        "このような関係になっています。\n",
        "機械学習を行う技法は他に、例えばサポートベクターマシン(Support Vector Machine, SVM)や決定木(Decision Tree)などがあります。\n",
        "\n",
        "## \"Deep\" とは？\n",
        "\n",
        "Deep Learning という言葉の \"Deep\" とは、ニューラルネットワークの層が深く、たくさんあるよ、という意味の \"Deep\" です。一般に単層のニューラルネットワークより、多層のニューラルネットワークの方が良い精度が出ます。\n",
        "\n",
        "<img src=\"https://storage.googleapis.com/zenn-user-upload/e62f4d09ce6e-20230202.png\" width=\"70%\">\n",
        "\n",
        "この理由はある程度はっきりしていて、単純に多層になると内部に存在するパラメータの数が増えて、より表現力が上がり、より複雑な関係を表現できるようになるからです。\n",
        "パラメータとは、学習の過程で変化する値、あるいは値の集合のことです。上記の図の○の中にパラメータがあると思ってください。○は各々異なるパラメータを持つことができます。\n",
        "ということは、より多く、そして深いほど、より複雑な表現力を持つということです。\n",
        "\n",
        "ヒトも進化の過程で脳味噌が大きくなって、つまりニューロンが増えて、より複雑な思考力を持つようになったのと同じようなものです。\n",
        "\n",
        "何層からが \"Deep\" なのか、これは多分人によって違うと思います。\n",
        "一般的には 3 層以上が \"Deep\" と言われていますが、明確な定義みたいなものはないと思います。(個人の感想です。)\n",
        "\n",
        "## 何ができるのか？\n",
        "\n",
        "Deep Learning では何ができるのでしょうか？\n",
        "ざっくり言うと、非線形な問題の答えを予測することができます。\n",
        "\n",
        "非線形な問題とは、線形な問題とは逆に、線形な関係を持たない問題のことです。\n",
        "と言ってもしっくりこないと思うので図で説明します。\n",
        "\n",
        "##線形、非線形について\n",
        "以下のような分布のデータを想像してみましょう。\n",
        "\n",
        "<img src=\"https://storage.googleapis.com/zenn-user-upload/a2749b2c2c9b-20230202.png\" width=\"80%\">\n",
        "\n",
        "\n",
        "この△のデータと○のデータをうまく分ける直線を考えてみてください。\n",
        "直感でいいです。\n",
        "\n",
        "だいたいこんな感じの直線が考えられると思います。\n",
        "\n",
        "<img src=\"https://storage.googleapis.com/zenn-user-upload/d9d7f984d4d7-20230202.png\" width=\"80%\">\n",
        "\n",
        "△および○の最も近いデータと直線との距離が最も大きくなるような直線を考えています。\n",
        "このような直線だと、まだ知らない未知の△や○のデータがやってきても、うまい具合に分類できそうですね。\n",
        "ちなみに例えば SVM という技法を用いると、このような典型的な境界が得られます。\n",
        "\n",
        "直線を引くことで、△と○のデータをうまく分けることができました。\n",
        "そう、これが線形な問題を解くということです。\n",
        "\n",
        "では、以下のような分布のデータを考えてみましょう。\n",
        "\n",
        "<img src=\"https://storage.googleapis.com/zenn-user-upload/d9d7f984d4d7-20230202.png\" width=\"80%\">\n",
        "\n",
        "このようなデータをうまく分ける境界はどうでしょうか？\n",
        "直感的に、直線で分けることはできないように思います。\n",
        "\n",
        "このようなデータをこのままうまく分ける直線は存在しません。\n",
        "\n",
        "私は人間ですので、何となくこんな感じか？と楕円で境界を引きました。\n",
        "<img src=\"https://storage.googleapis.com/zenn-user-upload/f74ca5c39eb2-20230202.png\" width=\"80%\">\n",
        "\n",
        "## なぜ Deep Learning を使うのか？\n",
        "ざっくり言うと、Deep Learning でうまくモデリングしてデータを用意して学習をさせると精度が出るからです。\n",
        "それはそう、という感じのお話ですね。\n",
        "\n",
        "その強力さはどこから来るのか、実は正確にはわかっていません。\n",
        "\n",
        "なんかうまくいくから、というのはやや気持ち悪さがあるかもしれませんが、なんかうまくいくから、なんかうまくいくのです。\n",
        "\n",
        "よく人間の脳神経細胞(ニューロン)を模倣した構造をしているからうまくいく、のような説明がされますが、実際のところ本当にそうなのかはわかっていません。(そして全然ニューロンを模倣できていないぞ、という説もあります。)\n",
        "\n",
        "<img src=\"https://storage.googleapis.com/zenn-user-upload/15d0907adb37-20230202.png\" width=\"80%\">\n",
        "\n"
      ],
      "metadata": {
        "id": "ZfJlV-Ct4Vjk"
      }
    },
    {
      "cell_type": "code",
      "execution_count": null,
      "metadata": {
        "id": "mK2xp12r28d-"
      },
      "outputs": [],
      "source": []
    }
  ]
}